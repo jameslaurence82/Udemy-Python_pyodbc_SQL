{
 "cells": [
  {
   "cell_type": "code",
   "execution_count": 1,
   "metadata": {},
   "outputs": [
    {
     "name": "stdout",
     "output_type": "stream",
     "text": [
      "List Example\n",
      "['car', 'motorbike', 'train']\n",
      "car\n"
     ]
    }
   ],
   "source": [
    "#list example\n",
    "print(\"List Example\")\n",
    "vehiclesList = [\"car\", \"motorbike\", \"train\"]\n",
    "print (vehiclesList)\n",
    "print (vehiclesList[0])"
   ]
  },
  {
   "cell_type": "code",
   "execution_count": 2,
   "metadata": {},
   "outputs": [
    {
     "name": "stdout",
     "output_type": "stream",
     "text": [
      "Array Example\n",
      "[['car', 'Honda'], ['motorbike', 'Harley'], ['train', 'Steam']]\n",
      "First Array Index, All Elements\n",
      "['car', 'Honda']\n",
      "Second Array Index, First Element\n",
      "motorbike\n",
      "Third Array Index, Second Element\n",
      "Steam\n"
     ]
    }
   ],
   "source": [
    "#array example\n",
    "print(\"Array Example\")\n",
    "vehiclesArray = [[\"car\", \"Honda\"],[\"motorbike\", \"Harley\"],[\"train\", \"Steam\"]]\n",
    "# Print the entire array\n",
    "print(vehiclesArray)\n",
    "print(\"First Array Index, All Elements\")\n",
    "# Accesses the first list within the array\n",
    "print(vehiclesArray[0])\n",
    "print(\"Second Array Index, First Element\")\n",
    "# Accesses the first element of the second list\n",
    "print(vehiclesArray[1][0])\n",
    "print(\"Third Array Index, Second Element\")\n",
    "# Accesses the second element of the third list\n",
    "print(vehiclesArray[2][1])"
   ]
  },
  {
   "cell_type": "code",
   "execution_count": 3,
   "metadata": {},
   "outputs": [
    {
     "name": "stdout",
     "output_type": "stream",
     "text": [
      "Tuple Example\n",
      "Number of Vehicle Types is:  3\n"
     ]
    }
   ],
   "source": [
    "#tuple example\n",
    "print(\"Tuple Example\")\n",
    "vehiclesTuple = (\"car\", \"motorbike\", \"train\")\n",
    "print(\"Number of Vehicle Types is: \",len(vehiclesTuple))"
   ]
  },
  {
   "cell_type": "code",
   "execution_count": 5,
   "metadata": {},
   "outputs": [
    {
     "name": "stdout",
     "output_type": "stream",
     "text": [
      "Dictionary Example\n",
      "{'car': 'Honda', 'motorbike': 'Harley', 'train': 'Steam'}\n",
      "Value for key 'car':\n",
      "Honda\n",
      "Value for key 'motorbike':\n",
      "Harley\n",
      "Value for key 'train':\n",
      "Steam\n",
      "\n"
     ]
    }
   ],
   "source": [
    "print(\"Dictionary Example\")\n",
    "# Defining vehiclesDict with vehicle types as keys and models as values\n",
    "vehiclesDict = {\n",
    "    \"car\": \"Honda\",\n",
    "    \"motorbike\": \"Harley\",\n",
    "    \"train\": \"Steam\"\n",
    "}\n",
    "# Print the entire dictionary\n",
    "print(vehiclesDict)\n",
    "\n",
    "# Accessing elements by key\n",
    "print(\"Value for key 'car':\")\n",
    "print(vehiclesDict['car'])\n",
    "\n",
    "print(\"Value for key 'motorbike':\")\n",
    "print(vehiclesDict['motorbike'])\n",
    "\n",
    "print(\"Value for key 'train':\")\n",
    "print(vehiclesDict['train'])\n",
    "\n",
    "print()"
   ]
  },
  {
   "cell_type": "code",
   "execution_count": 6,
   "metadata": {},
   "outputs": [
    {
     "name": "stdout",
     "output_type": "stream",
     "text": [
      "Set Example\n",
      "{'Honda', 'Steam', 'Harley'}\n",
      "Is 'Honda' in the set?\n",
      "True\n"
     ]
    }
   ],
   "source": [
    "print(\"Set Example\")\n",
    "# Defining vehiclesSet with unique vehicle models\n",
    "vehiclesSet = {\"Honda\", \"Harley\", \"Steam\"}\n",
    "\n",
    "# Print the entire set\n",
    "print(vehiclesSet)\n",
    "\n",
    "# Note: Sets do not support indexing or keys because they are unordered.\n",
    "# To demonstrate usage, we can check if an item is in the set:\n",
    "print(\"Is 'Honda' in the set?\")\n",
    "print(\"Honda\" in vehiclesSet)"
   ]
  },
  {
   "cell_type": "code",
   "execution_count": 7,
   "metadata": {},
   "outputs": [
    {
     "name": "stdout",
     "output_type": "stream",
     "text": [
      "Function Example\n",
      "Hello from the sample function!\n"
     ]
    }
   ],
   "source": [
    "#functions example\n",
    "#define function\n",
    "print(\"Function Example\")\n",
    "def sampleFunction():\n",
    "    print(\"Hello from the sample function!\")\n",
    "\n",
    "#call function\n",
    "sampleFunction()"
   ]
  },
  {
   "cell_type": "code",
   "execution_count": 8,
   "metadata": {},
   "outputs": [
    {
     "name": "stdout",
     "output_type": "stream",
     "text": [
      "Function Example with inputs\n",
      "Hello, Alice!\n"
     ]
    }
   ],
   "source": [
    "# Functions example\n",
    "print(\"Function Example with inputs\")\n",
    "\n",
    "# Define a function that takes parameters\n",
    "def sampleFunction(greeting, name):\n",
    "    print(f\"{greeting}, {name}!\")\n",
    "\n",
    "# Call the function with parameters\n",
    "sampleFunction(\"Hello\", \"Alice\")"
   ]
  },
  {
   "cell_type": "code",
   "execution_count": 9,
   "metadata": {},
   "outputs": [
    {
     "name": "stdout",
     "output_type": "stream",
     "text": [
      "Vehicle Type: Car\n",
      "Detail: Honda\n",
      "Detail: 4-door sedan\n",
      "Make: Honda\n",
      "Model: Civic\n",
      "Year: 2022\n"
     ]
    }
   ],
   "source": [
    "# Define function with args and kwargs\n",
    "def vehicle_details(type, *args, **kwargs):\n",
    "    print(f\"Vehicle Type: {type}\")\n",
    "    # Printing additional details (positional arguments)\n",
    "    for detail in args:\n",
    "        print(f\"Detail: {detail}\")\n",
    "    # Printing named details (keyword arguments)\n",
    "    for key in kwargs:\n",
    "        print(f\"{key.title()}: {kwargs[key]}\")\n",
    "\n",
    "# Call function\n",
    "vehicle_details(\"Car\", \"Honda\", \"4-door sedan\", make=\"Honda\", model=\"Civic\", year=2022)"
   ]
  },
  {
   "cell_type": "code",
   "execution_count": 10,
   "metadata": {},
   "outputs": [
    {
     "name": "stdout",
     "output_type": "stream",
     "text": [
      "Branch Logic Example\n",
      "a and b are equal\n"
     ]
    }
   ],
   "source": [
    "#branch logic example\n",
    "#if...elif...else example\n",
    "print(\"Branch Logic Example\")\n",
    "a=200\n",
    "b=200\n",
    "if a>b:\n",
    "    print(\"a is greater than b\")\n",
    "elif a==b:\n",
    "    print(\"a and b are equal\")\n",
    "else:\n",
    "    print(\"b is greater than a\")"
   ]
  },
  {
   "cell_type": "code",
   "execution_count": 11,
   "metadata": {},
   "outputs": [
    {
     "name": "stdout",
     "output_type": "stream",
     "text": [
      "Loop Example 1\n",
      "car\n",
      "motorbike\n",
      "train\n"
     ]
    }
   ],
   "source": [
    "#loop example 1\n",
    "print(\"Loop Example 1\")\n",
    "vehiclesList2 = [\"car\", \"motorbike\", \"train\"]\n",
    "for i in vehiclesList2:\n",
    "    print(i)"
   ]
  },
  {
   "cell_type": "code",
   "execution_count": 12,
   "metadata": {},
   "outputs": [
    {
     "name": "stdout",
     "output_type": "stream",
     "text": [
      "Multi-dimensional Array Example\n",
      "[['car', 'Honda', 'Civic'], ['motorbike', 'Harley', 'Davidson'], ['train', 'Steam', 'Locomotive']]\n",
      "Vehicle Type: car\n",
      "Vehicle Description: Honda\n",
      "Vehicle Description: Civic\n",
      "\n",
      "Vehicle Type: motorbike\n",
      "Vehicle Description: Harley\n",
      "Vehicle Description: Davidson\n",
      "\n",
      "Vehicle Type: train\n",
      "Vehicle Description: Steam\n",
      "Vehicle Description: Locomotive\n",
      "\n"
     ]
    }
   ],
   "source": [
    "# Multi-dimensional Array Example\n",
    "print(\"Multi-dimensional Array Example\")\n",
    "vehiclesArray1 = [\n",
    "    [\"car\", \"Honda\", \"Civic\"],\n",
    "    [\"motorbike\", \"Harley\", \"Davidson\"],\n",
    "    [\"train\", \"Steam\", \"Locomotive\"]\n",
    "]\n",
    "print(vehiclesArray1)\n",
    "# Loop to iterate over the multi-dimensional array\n",
    "for vehicle in vehiclesArray1:\n",
    "    print(\"Vehicle Type:\", vehicle[0])  # Print the type of the vehicle\n",
    "    for detail in vehicle[1:]:  # Start looping from index 1 to the end\n",
    "        print(\"Vehicle Description:\", detail)\n",
    "    print()  # Adds an empty line after each vehicle's details"
   ]
  },
  {
   "cell_type": "code",
   "execution_count": 13,
   "metadata": {},
   "outputs": [
    {
     "name": "stdout",
     "output_type": "stream",
     "text": [
      "Loop Example 2\n",
      "0\n",
      "1\n",
      "2\n",
      "3\n",
      "4\n",
      "5\n",
      "6\n",
      "7\n",
      "8\n",
      "9\n"
     ]
    }
   ],
   "source": [
    "#loop example 2\n",
    "print(\"Loop Example 2\")\n",
    "i=0\n",
    "while (i<10):\n",
    "\tprint (i)\n",
    "\ti=i+1"
   ]
  },
  {
   "cell_type": "code",
   "execution_count": 15,
   "metadata": {},
   "outputs": [
    {
     "name": "stdout",
     "output_type": "stream",
     "text": [
      "Exception Handling Example\n",
      "Exception:  invalid literal for int() with base 10: 'a'\n",
      "Closing program...\n"
     ]
    }
   ],
   "source": [
    "print(\"Exception Handling Example\")\n",
    "\n",
    "# Start try block to handle potential exceptions during execution.\n",
    "try:\n",
    "    # Prompt user for input and attempt to convert it to an integer.\n",
    "    x = int(input(\"Please enter a number: \"))\n",
    "    # Print the number if conversion is successful.\n",
    "    print(\"Number is: \", str(x))\n",
    "\n",
    "# Catch and handle ValueError if conversion fails.\n",
    "except ValueError as ex:\n",
    "    # Output the error message and indicate program closure.\n",
    "    print(\"Exception: \", ex)\n",
    "    print(\"Closing program...\")"
   ]
  }
 ],
 "metadata": {
  "kernelspec": {
   "display_name": "base",
   "language": "python",
   "name": "python3"
  },
  "language_info": {
   "codemirror_mode": {
    "name": "ipython",
    "version": 3
   },
   "file_extension": ".py",
   "mimetype": "text/x-python",
   "name": "python",
   "nbconvert_exporter": "python",
   "pygments_lexer": "ipython3",
   "version": "3.11.9"
  }
 },
 "nbformat": 4,
 "nbformat_minor": 2
}
