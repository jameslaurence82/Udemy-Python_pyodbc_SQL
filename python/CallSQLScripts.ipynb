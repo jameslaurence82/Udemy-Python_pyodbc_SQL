{
 "cells": [
  {
   "cell_type": "markdown",
   "metadata": {},
   "source": [
    "##### Call Multiple SQL Scripts which have Multiple SQL Statements"
   ]
  },
  {
   "cell_type": "code",
   "execution_count": 14,
   "metadata": {},
   "outputs": [],
   "source": [
    "import subprocess # can make Powershell Calls\n",
    "import os # can iterate through folder directories"
   ]
  },
  {
   "cell_type": "code",
   "execution_count": 15,
   "metadata": {},
   "outputs": [],
   "source": [
    "# Set SQL instance and initial Database to Connect to via PowerShell\n",
    "SQLInstance =\"MSI\"\n",
    "SQLDatabase=\"master\""
   ]
  },
  {
   "cell_type": "code",
   "execution_count": 16,
   "metadata": {},
   "outputs": [],
   "source": [
    "# Define method to call powershell and pass command as parameter\n",
    "def runPSCommand(cmd):\n",
    "    # Assemble the PowerShell command with necessary flags\n",
    "    command = [\"PowerShell\", \"-ExecutionPolicy\", \"Unrestricted\", \"-Command\", cmd]\n",
    "    # Execute the PowerShell command and capture the return code\n",
    "    output = subprocess.run(command)\n",
    "    # Return the output of the PowerShell command\n",
    "    return output"
   ]
  },
  {
   "cell_type": "code",
   "execution_count": 17,
   "metadata": {},
   "outputs": [
    {
     "name": "stdout",
     "output_type": "stream",
     "text": [
      "Executing .sql file: E:\\NSCC\\6-Data Analytics Spring 2024\\INFT 4100 - Work Term\\Python_Udemy\\Python_SQLServer\\demoSQLScripts\\sqlscript1.sql\n",
      "Command Output: None\n",
      "Executing .sql file: E:\\NSCC\\6-Data Analytics Spring 2024\\INFT 4100 - Work Term\\Python_Udemy\\Python_SQLServer\\demoSQLScripts\\sqlscript2.sql\n",
      "Command Output: None\n",
      "Executing .sql file: E:\\NSCC\\6-Data Analytics Spring 2024\\INFT 4100 - Work Term\\Python_Udemy\\Python_SQLServer\\demoSQLScripts\\sqlscript3.sql\n",
      "Command Output: None\n"
     ]
    }
   ],
   "source": [
    "# Retrieve all .sql files in given directory and execute them using runPSCommand function\n",
    "# Define the directory path containing SQL files\n",
    "folderToCheck = \"E:\\\\NSCC\\\\6-Data Analytics Spring 2024\\\\INFT 4100 - Work Term\\\\Python_Udemy\\\\Python_SQLServer\\\\demoSQLScripts\"\n",
    "\n",
    "for file in os.listdir(folderToCheck):\n",
    "    if file.endswith(\".sql\"):\n",
    "        print(\"Executing .sql file: \" + os.path.join(folderToCheck, file))\n",
    "        SQLCommand = f\"Invoke-Sqlcmd -ServerInstance {SQLInstance} -Inputfile \\\"{os.path.join(folderToCheck, file)}\\\"\"\n",
    "        commandOutput = runPSCommand(SQLCommand)\n",
    "        \n",
    "        if commandOutput.returncode != 0:\n",
    "            print(\"Error Output:\", commandOutput.stderr)\n",
    "        else:\n",
    "            print(\"Command Output:\", commandOutput.stdout)"
   ]
  }
 ],
 "metadata": {
  "kernelspec": {
   "display_name": "base",
   "language": "python",
   "name": "python3"
  },
  "language_info": {
   "codemirror_mode": {
    "name": "ipython",
    "version": 3
   },
   "file_extension": ".py",
   "mimetype": "text/x-python",
   "name": "python",
   "nbconvert_exporter": "python",
   "pygments_lexer": "ipython3",
   "version": "3.11.9"
  }
 },
 "nbformat": 4,
 "nbformat_minor": 2
}
