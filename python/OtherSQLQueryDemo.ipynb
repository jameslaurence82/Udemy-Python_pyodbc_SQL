{
 "cells": [
  {
   "cell_type": "markdown",
   "metadata": {},
   "source": [
    "##### Executing Other SQL Server Queries"
   ]
  },
  {
   "cell_type": "code",
   "execution_count": 2,
   "metadata": {},
   "outputs": [],
   "source": [
    "import pyodbc\n",
    "import pandas as pd"
   ]
  },
  {
   "cell_type": "code",
   "execution_count": 3,
   "metadata": {},
   "outputs": [
    {
     "name": "stdout",
     "output_type": "stream",
     "text": [
      "\n",
      "Successfully Connected to Database\n",
      "\n"
     ]
    }
   ],
   "source": [
    "# Trusted Connection to SQL Server Default Instance with Exception Handling (invalid DB Name)\n",
    "try:\n",
    "    connection = pyodbc.connect('DRIVER={ODBC Driver 17 for SQL Server};SERVER=MSI;DATABASE=sampleDB;Trusted_Connection=yes;')\n",
    "\n",
    "    # initialize the cursor object with connection name\n",
    "    cursor = connection.cursor()\n",
    "    print()\n",
    "    print('Successfully Connected to Database')\n",
    "    print()\n",
    "\n",
    "except pyodbc.Error as ex: # ex is the exception object\n",
    "    print()\n",
    "    print('Exception: ', ex)\n",
    "    print('Stopping program...')\n",
    "    print()  \n"
   ]
  },
  {
   "cell_type": "markdown",
   "metadata": {},
   "source": [
    "##### 1. Run Aggregation: COUNT </br> 2. Call System Global Variable @@SERVERNAME </br> 3. Call a Dynamic Management View (DMV) - sys.dm_os_wait_stats"
   ]
  },
  {
   "cell_type": "code",
   "execution_count": 12,
   "metadata": {},
   "outputs": [
    {
     "name": "stdout",
     "output_type": "stream",
     "text": [
      "[Query 1 Results....]\n",
      "Total Records:  5\n",
      "\n",
      "[Query 2 System Global Variable @@SERVERNAME Results....]\n",
      "Server Name:  MSI\n",
      "\n",
      "[Query 3 Dynamic Management View Results....]\n",
      "Type: SOS_WORK_DISPATCHER \t Wait time: 4152793419\n",
      "Type: SLEEP_TASK \t Wait time: 154693708\n",
      "Type: LOGMGR_QUEUE \t Wait time: 145895359\n",
      "Type: DISPATCHER_QUEUE_SEMAPHORE \t Wait time: 80601013\n",
      "Type: DIRTY_PAGE_POLL \t Wait time: 72947726\n",
      "Type: HADR_FILESTREAM_IOMGR_IOCOMPLETION \t Wait time: 72947419\n",
      "Type: REQUEST_FOR_DEADLOCK_SEARCH \t Wait time: 72947203\n",
      "Type: SQLTRACE_INCREMENTAL_FLUSH_SLEEP \t Wait time: 72947143\n",
      "Type: XE_TIMER_EVENT \t Wait time: 72945385\n",
      "Type: PWAIT_DIRECTLOGCONSUMER_GETNEXT \t Wait time: 72942430\n"
     ]
    }
   ],
   "source": [
    "try:\n",
    "    # Query 1 - Aggregation COUNT function\n",
    "    # can query other database tables using [<DBName>].[dbo].[<DBTable>]\n",
    "    cursor.execute(\"SELECT COUNT(*) AS totalRecords FROM tblCustomers\") # \n",
    "    # display results\n",
    "    print(\"[Query 1 Results....]\")\n",
    "    while True:\n",
    "        row = cursor.fetchone()\n",
    "        if not row:\n",
    "            break\n",
    "        print(\"Total Records: \", row.totalRecords)\n",
    "    print()\n",
    "    # Query 2 - System Global Variable @@SERVERNAME\n",
    "    cursor.execute(\"SELECT @@SERVERNAME as serverName\") \n",
    "    # display results\n",
    "    print(\"[Query 2 System Global Variable @@SERVERNAME Results....]\")\n",
    "    while True:\n",
    "        row = cursor.fetchone()\n",
    "        if not row:\n",
    "            break\n",
    "        print(\"Server Name: \", row.serverName)\n",
    "    print()\n",
    "    # Query 3 - Dynamic Management View: sys.dm_os_wait_status\n",
    "    cursor.execute(\"SELECT TOP 10 wait_type, wait_time_ms FROM sys.dm_os_wait_stats WHERE wait_time_ms>5 ORDER BY 2 DESC \") \n",
    "    # display results\n",
    "    print(\"[Query 3 Dynamic Management View Results....]\")\n",
    "    while True:\n",
    "        row = cursor.fetchone()\n",
    "        if not row:\n",
    "            break\n",
    "        print(f\"Type: {row.wait_type} \\t Wait time: {row.wait_time_ms}\")\n",
    "    # close cursor once queries completed\n",
    "    # cursor.close()\n",
    "\n",
    "except pyodbc.Error as ex: # ex is the exception object\n",
    "    print()\n",
    "    print('Exception: ', ex)\n",
    "    print('Stopping program...')\n",
    "    print()"
   ]
  }
 ],
 "metadata": {
  "kernelspec": {
   "display_name": "base",
   "language": "python",
   "name": "python3"
  },
  "language_info": {
   "codemirror_mode": {
    "name": "ipython",
    "version": 3
   },
   "file_extension": ".py",
   "mimetype": "text/x-python",
   "name": "python",
   "nbconvert_exporter": "python",
   "pygments_lexer": "ipython3",
   "version": "3.11.9"
  }
 },
 "nbformat": 4,
 "nbformat_minor": 2
}
