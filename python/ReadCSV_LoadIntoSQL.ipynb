{
 "cells": [
  {
   "cell_type": "markdown",
   "metadata": {},
   "source": [
    "##### Executing Other SQL Server Queries"
   ]
  },
  {
   "cell_type": "code",
   "execution_count": 6,
   "metadata": {},
   "outputs": [],
   "source": [
    "import pyodbc\n",
    "import csv"
   ]
  },
  {
   "cell_type": "code",
   "execution_count": 7,
   "metadata": {},
   "outputs": [
    {
     "name": "stdout",
     "output_type": "stream",
     "text": [
      "\n",
      "Successfully Connected to Database\n",
      "\n"
     ]
    }
   ],
   "source": [
    "# Trusted Connection to SQL Server Default Instance with Exception Handling (invalid DB Name)\n",
    "try:\n",
    "    connection = pyodbc.connect('DRIVER={ODBC Driver 17 for SQL Server};SERVER=MSI;DATABASE=sampleDB;Trusted_Connection=yes;')\n",
    "\n",
    "    # initialize the cursor object with connection name\n",
    "    cursor = connection.cursor()\n",
    "    print()\n",
    "    print('Successfully Connected to Database')\n",
    "    print()\n",
    "\n",
    "except pyodbc.Error as ex: # ex is the exception object\n",
    "    print()\n",
    "    print('Exception: ', ex)\n",
    "    print('Stopping program...')\n",
    "    print()  \n"
   ]
  },
  {
   "cell_type": "markdown",
   "metadata": {},
   "source": [
    "##### Print the contents of a csv file"
   ]
  },
  {
   "cell_type": "code",
   "execution_count": 8,
   "metadata": {},
   "outputs": [
    {
     "name": "stdout",
     "output_type": "stream",
     "text": [
      "1, customer1, firstName1, lastName1\n",
      "2, customer2, firstName2, lastName2\n",
      "3, customer3, firstName3, lastName3\n",
      "4, customer4, firstName4, lastName4\n",
      "5, customer5, firstName5, lastName5\n"
     ]
    }
   ],
   "source": [
    "with open('sample-csv-file-for-demo.csv',newline='') as csvfile:\n",
    "    csvReader = csv.reader(csvfile, delimiter=';', quotechar='|')\n",
    "    for row in csvReader:\n",
    "        print(', '.join(row))"
   ]
  },
  {
   "cell_type": "markdown",
   "metadata": {},
   "source": [
    "##### Read Specific Columns for Every Record"
   ]
  },
  {
   "cell_type": "code",
   "execution_count": 9,
   "metadata": {},
   "outputs": [
    {
     "name": "stdout",
     "output_type": "stream",
     "text": [
      "First Column of Row: 1\n",
      "First Column of Row: 2\n",
      "First Column of Row: 3\n",
      "First Column of Row: 4\n",
      "First Column of Row: 5\n"
     ]
    }
   ],
   "source": [
    "with open('sample-csv-file-for-demo.csv',newline='') as csvfile:\n",
    "    csvReader = csv.reader(csvfile, delimiter=';', quotechar='|')\n",
    "    for row in csvReader:\n",
    "        print(f'First Column of Row: {row[0]}')"
   ]
  },
  {
   "cell_type": "markdown",
   "metadata": {},
   "source": [
    "##### Writing Contents of CSV File to SQL Server Table </br> 1. Create Table and commit Changes </br> 2. For every row of CSV </br>&nbsp;&nbsp;&nbsp;&nbsp;2a. Populate Parameter values </br>&nbsp;&nbsp;&nbsp;&nbsp;2b. Execute the INSERT statement </br>&nbsp;&nbsp;&nbsp;&nbsp;2c. Commit Changes"
   ]
  },
  {
   "cell_type": "code",
   "execution_count": 13,
   "metadata": {},
   "outputs": [
    {
     "name": "stdout",
     "output_type": "stream",
     "text": [
      "[Before INSERT.....]\n",
      "\n",
      "[Loading CSV and INSERTING Data.....]\n",
      "Inserting record:  1, customer1, firstName1, lastName1\n",
      "Inserting record:  2, customer2, firstName2, lastName2\n",
      "Inserting record:  3, customer3, firstName3, lastName3\n",
      "Inserting record:  4, customer4, firstName4, lastName4\n",
      "Inserting record:  5, customer5, firstName5, lastName5\n",
      "\n",
      "[After INSERT.....]\n",
      "1 customer1 firstName1 lastName1\n",
      "2 customer2 firstName2 lastName2\n",
      "3 customer3 firstName3 lastName3\n",
      "4 customer4 firstName4 lastName4\n",
      "5 customer5 firstName5 lastName5\n"
     ]
    }
   ],
   "source": [
    "try:\n",
    "    # Create Table for CSV input\n",
    "    sqlTableCreate = \"\"\"\n",
    "    CREATE TABLE [dbo].[tblCustomersFromCSV](\n",
    "        [id] [int] NOT NULL,\n",
    "        [code] [varchar](50) NULL,\n",
    "        [firstName] [varchar](50) NULL,\n",
    "        [lastName] [varchar](50) NULL        \n",
    "    )\n",
    "    \"\"\"\n",
    "    # execute and commit cursor\n",
    "    cursor.execute(sqlTableCreate) \n",
    "    connection.commit()\n",
    "\n",
    "    # display table\n",
    "    cursor.execute('SELECT * FROM tblCustomersFromCSV')\n",
    "    \n",
    "    print(\"[Before INSERT.....]\")\n",
    "    while 1:\n",
    "        row = cursor.fetchone()\n",
    "        if not row:\n",
    "            break\n",
    "        print(row.id, row.code, row.firstName, row.lastName)\n",
    "        \n",
    "    print()\n",
    "    print(\"[Loading CSV and INSERTING Data.....]\")\n",
    "    # Read CSV and INSERT Rows into SQL Server Table\n",
    "    with open('sample-csv-file-for-demo.csv',newline='') as csvfile:\n",
    "        csvReader = csv.reader(csvfile, delimiter=';', quotechar='|')\n",
    "        for row in csvReader:\n",
    "            # Extract specific fields from the CSV row.\n",
    "            paramID = row[0]        # Extract the ID from the first column.\n",
    "            paramCode = row[1]      # Extract the code from the second column.\n",
    "            paramFName = row[2]     # Extract the first name from the fourth column.\n",
    "            paramLName = row[3]     # Extract the last name from the fifth column.\n",
    "            \n",
    "            # Print the current row's data being inserted.\n",
    "            print('Inserting record: ',', '.join(row))\n",
    "            \n",
    "            # Execute an SQL command to insert the data into a table.\n",
    "            cursor.execute(\"INSERT INTO [tblCustomersFromCSV] ([id], [code], [firstName], [lastName]) VALUES (?, ?, ?, ?)\", \n",
    "                        paramID, paramCode, paramFName, paramLName)\n",
    "            \n",
    "            # Commit the transaction to save the insert operation to the database.\n",
    "            connection.commit()\n",
    "            \n",
    "    cursor.execute('SELECT * FROM tblCustomersFromCSV')\n",
    "    \n",
    "    print()\n",
    "    print(\"[After INSERT.....]\")\n",
    "    while 1:\n",
    "        row = cursor.fetchone()\n",
    "        if not row:\n",
    "            break\n",
    "        print(row.id, row.code, row.firstName, row.lastName)\n",
    "    \n",
    "except pyodbc.Error as ex: # ex is the exception object\n",
    "    print()\n",
    "    print('Exception: ', ex)\n",
    "    print('Stopping program...')\n",
    "    print()"
   ]
  }
 ],
 "metadata": {
  "kernelspec": {
   "display_name": "base",
   "language": "python",
   "name": "python3"
  },
  "language_info": {
   "codemirror_mode": {
    "name": "ipython",
    "version": 3
   },
   "file_extension": ".py",
   "mimetype": "text/x-python",
   "name": "python",
   "nbconvert_exporter": "python",
   "pygments_lexer": "ipython3",
   "version": "3.11.9"
  }
 },
 "nbformat": 4,
 "nbformat_minor": 2
}
