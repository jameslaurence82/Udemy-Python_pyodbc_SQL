{
 "cells": [
  {
   "cell_type": "markdown",
   "metadata": {},
   "source": [
    "##### Run SQL Server BULK INSERT Command"
   ]
  },
  {
   "cell_type": "code",
   "execution_count": 1,
   "metadata": {},
   "outputs": [],
   "source": [
    "import pyodbc\n",
    "import csv"
   ]
  },
  {
   "cell_type": "code",
   "execution_count": 2,
   "metadata": {},
   "outputs": [
    {
     "name": "stdout",
     "output_type": "stream",
     "text": [
      "\n",
      "Successfully Connected to Database\n",
      "\n"
     ]
    }
   ],
   "source": [
    "# Trusted Connection to SQL Server Default Instance with Exception Handling (invalid DB Name)\n",
    "try:\n",
    "    connection = pyodbc.connect('DRIVER={ODBC Driver 17 for SQL Server};SERVER=MSI;DATABASE=sampleDB;Trusted_Connection=yes;')\n",
    "\n",
    "    # initialize the cursor object with connection name\n",
    "    cursor = connection.cursor()\n",
    "    print()\n",
    "    print('Successfully Connected to Database')\n",
    "    print()\n",
    "\n",
    "except pyodbc.Error as ex: # ex is the exception object\n",
    "    print()\n",
    "    print('Exception: ', ex)\n",
    "    print('Stopping program...')\n",
    "    print()  "
   ]
  },
  {
   "cell_type": "code",
   "execution_count": 5,
   "metadata": {},
   "outputs": [
    {
     "name": "stdout",
     "output_type": "stream",
     "text": [
      "[Before Bulk INSERT.....]\n",
      "\n",
      "[Bulk INSERTING Data.....]\n",
      "\n",
      "[After Bulk INSERT.....]\n",
      "1 customer1 firstName1 lastName1\n",
      "2 customer2 firstName2 lastName2\n",
      "3 customer3 firstName3 lastName3\n",
      "4 customer4 firstName4 lastName4\n",
      "5 customer5 firstName5 lastName5\n"
     ]
    }
   ],
   "source": [
    "try:\n",
    "    # Create Table for CSV input\n",
    "    sqlTableCreate = \"\"\"\n",
    "    CREATE TABLE [dbo].[tblCustomersFromCSV3](\n",
    "        [id] [int] NOT NULL,\n",
    "        [code] [varchar](50) NULL,\n",
    "        [firstName] [varchar](50) NULL,\n",
    "        [lastName] [varchar](50) NULL        \n",
    "    )\n",
    "    \"\"\"\n",
    "    # execute and commit cursor\n",
    "    cursor.execute(sqlTableCreate) \n",
    "    connection.commit()\n",
    "\n",
    "    # display table\n",
    "    cursor.execute('SELECT * FROM tblCustomersFromCSV3')\n",
    "    \n",
    "    print(\"[Before Bulk INSERT.....]\")\n",
    "    while 1:\n",
    "        row = cursor.fetchone()\n",
    "        if not row:\n",
    "            break\n",
    "        print(row.id, row.code, row.firstName, row.lastName)\n",
    "        \n",
    "    print()\n",
    "    print(\"[Bulk INSERTING Data.....]\")\n",
    "    # Initialize Bulk Insert Statement Location to CSV needs to be hardcoded for SQL Server and or a Python variable\n",
    "    bulkInsertCommand=\"\"\"BULK INSERT tblCustomersFromCSV3\n",
    "    FROM 'E:\\\\NSCC\\\\6-Data Analytics Spring 2024\\\\INFT 4100 - Work Term\\\\Python_Udemy\\\\Python_SQLServer\\\\python\\\\sample-csv-file-for-demo.csv'\n",
    "    WITH   \n",
    "    (  \n",
    "        FIELDTERMINATOR =';',  \n",
    "        ROWTERMINATOR ='\\n'  \n",
    "    );\n",
    "    \"\"\"\n",
    "    # Execute and Commit the transaction\n",
    "    cursor.execute(bulkInsertCommand)\n",
    "    connection.commit()\n",
    "            \n",
    "    cursor.execute('SELECT * FROM tblCustomersFromCSV3')\n",
    "    \n",
    "    print()\n",
    "    print(\"[After Bulk INSERT.....]\")\n",
    "    while 1:\n",
    "        row = cursor.fetchone()\n",
    "        if not row:\n",
    "            break\n",
    "        print(row.id, row.code, row.firstName, row.lastName)\n",
    "    \n",
    "except pyodbc.Error as ex: # ex is the exception object\n",
    "    print()\n",
    "    print('Exception: ', ex)\n",
    "    print('Stopping program...')\n",
    "    print()"
   ]
  }
 ],
 "metadata": {
  "kernelspec": {
   "display_name": "base",
   "language": "python",
   "name": "python3"
  },
  "language_info": {
   "codemirror_mode": {
    "name": "ipython",
    "version": 3
   },
   "file_extension": ".py",
   "mimetype": "text/x-python",
   "name": "python",
   "nbconvert_exporter": "python",
   "pygments_lexer": "ipython3",
   "version": "3.11.9"
  }
 },
 "nbformat": 4,
 "nbformat_minor": 2
}
