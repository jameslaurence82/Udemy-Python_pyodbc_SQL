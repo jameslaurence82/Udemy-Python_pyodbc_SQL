{
 "cells": [
  {
   "cell_type": "markdown",
   "metadata": {},
   "source": [
    "##### Executing CRUD (Create, Read, Update, Delete) SQL Queries"
   ]
  },
  {
   "cell_type": "code",
   "execution_count": 1,
   "metadata": {},
   "outputs": [],
   "source": [
    "import pyodbc\n",
    "import pandas as pd"
   ]
  },
  {
   "cell_type": "code",
   "execution_count": 24,
   "metadata": {},
   "outputs": [
    {
     "name": "stdout",
     "output_type": "stream",
     "text": [
      "\n",
      "Successfully Connected to Database\n",
      "\n"
     ]
    }
   ],
   "source": [
    "# Trusted Connection to SQL Server Default Instance with Exception Handling (invalid DB Name)\n",
    "try:\n",
    "    connection = pyodbc.connect('DRIVER={ODBC Driver 17 for SQL Server};SERVER=MSI;DATABASE=sampleDB;Trusted_Connection=yes;')\n",
    "\n",
    "    # initialize the cursor object with connection name\n",
    "    cursor = connection.cursor()\n",
    "    print()\n",
    "    print('Successfully Connected to Database')\n",
    "    print()\n",
    "\n",
    "except pyodbc.Error as ex: # ex is the exception object\n",
    "    print()\n",
    "    print('Exception: ', ex)\n",
    "    print('Stopping program...')\n",
    "    print()\n",
    "    \n"
   ]
  },
  {
   "cell_type": "markdown",
   "metadata": {},
   "source": [
    "##### Executing SELECT SQL Queries"
   ]
  },
  {
   "cell_type": "code",
   "execution_count": 7,
   "metadata": {},
   "outputs": [
    {
     "name": "stdout",
     "output_type": "stream",
     "text": [
      "[Query 1 Results....]\n",
      "1 code1 firstName1 lastName1\n",
      "2 code2 firstName2 lastName2\n",
      "3 code3 firstName3 lastName3\n",
      "4 code4 firstName4 lastName4\n",
      "5 code5 firstName5 lastName5\n"
     ]
    }
   ],
   "source": [
    "# running SELECT Statement with no parameters\n",
    "# execute SQL query with valid table name\n",
    "try:\n",
    "    cursor.execute(\"SELECT * FROM tblCustomers\")\n",
    "    # display results\n",
    "    print(\"[Query 1 Results....]\")\n",
    "    while True:\n",
    "        row = cursor.fetchone()\n",
    "        if not row:\n",
    "            break\n",
    "        print(row.id,row.code,row.firstName,row.lastName)\n",
    "    \n",
    "    # close cursor once queries completed\n",
    "    # cursor.close()\n",
    "\n",
    "except pyodbc.Error as ex: # ex is the exception object\n",
    "    print()\n",
    "    print('Exception: ', ex)\n",
    "    print('Stopping program...')\n",
    "    print()\n"
   ]
  },
  {
   "cell_type": "code",
   "execution_count": 10,
   "metadata": {},
   "outputs": [
    {
     "name": "stdout",
     "output_type": "stream",
     "text": [
      "\n",
      "Exception:  ('42S02', \"[42S02] [Microsoft][ODBC Driver 17 for SQL Server][SQL Server]Invalid object name 'tableCustomers'. (208) (SQLExecDirectW)\")\n",
      "Stopping program...\n",
      "\n"
     ]
    }
   ],
   "source": [
    "# running SELECT Statement with no parameters\n",
    "# execute SQL query with invalid table name\n",
    "try:\n",
    "    cursor.execute(\"SELECT * FROM tableCustomers\")\n",
    "    # display results\n",
    "    print(\"[Query 1 Results....]\")\n",
    "    while True:\n",
    "        row = cursor.fetchone()\n",
    "        if not row:\n",
    "            break\n",
    "        print(row.id,row.code,row.firstName,row.lastName)\n",
    "\n",
    "    # close cursor once queries completed\n",
    "    # cursor.close()\n",
    "except pyodbc.Error as ex: # ex is the exception object\n",
    "    print()\n",
    "    print('Exception: ', ex)\n",
    "    print('Stopping program...')\n",
    "    print()"
   ]
  },
  {
   "cell_type": "code",
   "execution_count": 13,
   "metadata": {},
   "outputs": [
    {
     "name": "stdout",
     "output_type": "stream",
     "text": [
      "[Query 1 Results....]\n",
      "2 code2 firstName2 lastName2\n"
     ]
    }
   ],
   "source": [
    "# running SELECT Statement with parameters which protects against SQL Injection attacks\n",
    "# execute SQL query with valid table name\n",
    "try:\n",
    "    # initializing parameter for SQL statement\n",
    "    paramID=2\n",
    "    # when executing cursor wiht parameter, WHERE is included and '?' is used as placeholder for parameter\n",
    "    cursor.execute(\"SELECT * FROM tblCustomers WHERE id=?\",paramID) # this will pull results where customerID = 2\n",
    "    # display results\n",
    "    print(\"[Query 1 Results....]\")\n",
    "    while True:\n",
    "        row = cursor.fetchone()\n",
    "        if not row:\n",
    "            break\n",
    "        print(row.id,row.code,row.firstName,row.lastName)\n",
    "    \n",
    "    # close cursor once queries completed\n",
    "    # cursor.close()\n",
    "\n",
    "except pyodbc.Error as ex: # ex is the exception object\n",
    "    print()\n",
    "    print('Exception: ', ex)\n",
    "    print('Stopping program...')\n",
    "    print()"
   ]
  },
  {
   "cell_type": "markdown",
   "metadata": {},
   "source": [
    "##### Executing INSERT SQL Queries"
   ]
  },
  {
   "cell_type": "code",
   "execution_count": 25,
   "metadata": {},
   "outputs": [
    {
     "name": "stdout",
     "output_type": "stream",
     "text": [
      "[Result Before Insert....]\n",
      "1 code1 firstName1 lastName1\n",
      "2 code2 firstName2 lastName2\n",
      "3 code3 firstName3 lastName3\n",
      "4 code4 firstName4 lastName4\n",
      "5 code5 firstName5 lastName5\n",
      "\n",
      "[Inserting Record to Table...]\n",
      "Insert Complete\n",
      "\n",
      "[Result After Insert....]\n",
      "1 code1 firstName1 lastName1\n",
      "2 code2 firstName2 lastName2\n",
      "3 code3 firstName3 lastName3\n",
      "4 code4 firstName4 lastName4\n",
      "5 code5 firstName5 lastName5\n",
      "6 code6 firstName6 lastName6\n"
     ]
    }
   ],
   "source": [
    "# running INSERT Statement without parameters \n",
    "# execute SQL query with valid table name\n",
    "try:\n",
    "    # executing cursor query\n",
    "    # Select before Insert\n",
    "    cursor.execute(\"SELECT * FROM tblCustomers\") \n",
    "    \n",
    "    print(\"[Result Before Insert....]\")\n",
    "    while True:\n",
    "        row = cursor.fetchone()\n",
    "        if not row:\n",
    "            break\n",
    "        print(row.id,row.code,row.firstName,row.lastName)\n",
    "    print()\n",
    "    # Insert Query\n",
    "    print(\"[Inserting Record to Table...]\")\n",
    "    cursor.execute(\"INSERT INTO [tblCustomers] ([id],[code],[firstName],[lastName]) VALUES (6, 'code6', 'firstName6', 'lastName6')\")\n",
    "    # commit the changes to table\n",
    "    connection.commit()\n",
    "    print(\"Insert Complete\")\n",
    "    print()\n",
    "    print(\"[Result After Insert....]\")\n",
    "    cursor.execute(\"SELECT * FROM tblCustomers\")\n",
    "    while True:\n",
    "        row = cursor.fetchone()\n",
    "        if not row:\n",
    "            break\n",
    "        print(row.id,row.code,row.firstName,row.lastName)\n",
    "    # close cursor once queries completed\n",
    "    # cursor.close()\n",
    "\n",
    "except pyodbc.Error as ex: # ex is the exception object\n",
    "    print()\n",
    "    print('Exception: ', ex)\n",
    "    print('Stopping program...')\n",
    "    print()"
   ]
  },
  {
   "cell_type": "code",
   "execution_count": 38,
   "metadata": {},
   "outputs": [
    {
     "name": "stdout",
     "output_type": "stream",
     "text": [
      "[Result Before Insert....]\n",
      "1 code1 firstName1 lastName1\n",
      "2 code2 firstName2 lastName2\n",
      "3 code3 firstName3 lastName3\n",
      "4 code4 firstName4 lastName4\n",
      "6 code6 firstName6 lastName6\n",
      "\n",
      "[Inserting Record to Table...]\n",
      "Insert Complete\n",
      "\n",
      "[Result After Insert....]\n",
      "1 code1 firstName1 lastName1\n",
      "2 code2 firstName2 lastName2\n",
      "3 code3 firstName3 lastName3\n",
      "4 code4 firstName4 lastName4\n",
      "5 code5 firstName5 lastName5\n",
      "6 code6 firstName6 lastName6\n"
     ]
    }
   ],
   "source": [
    "# running INSERT Statement with parameters \n",
    "# execute SQL query with valid table name\n",
    "try:\n",
    "    # executing cursor query\n",
    "    # Select before Insert\n",
    "    cursor.execute(\"SELECT * FROM tblCustomers\") \n",
    "    \n",
    "    print(\"[Result Before Insert....]\")\n",
    "    while True:\n",
    "        row = cursor.fetchone()\n",
    "        if not row:\n",
    "            break\n",
    "        print(row.id,row.code,row.firstName,row.lastName)\n",
    "    print()\n",
    "    # Insert Query\n",
    "    # Insert Parameters for Customer table\n",
    "    paramID = 7\n",
    "    paramCode = 'code7'\n",
    "    paramFName = 'firstName7'\n",
    "    paramLName = 'lastName7'\n",
    "    print(\"[Inserting Record to Table...]\")\n",
    "    # using ? placeholder for python parameters to be passed\n",
    "    cursor.execute(\"INSERT INTO [tblCustomers] ([id],[code],[firstName],[lastName]) VALUES (?,?,?,?)\", (paramID, paramCode, paramFName, paramLName))\n",
    "    # commit the changes to table\n",
    "    connection.commit()\n",
    "    print(\"Insert Complete\")\n",
    "    print()\n",
    "    print(\"[Result After Insert....]\")\n",
    "    cursor.execute(\"SELECT * FROM tblCustomers\")\n",
    "    while True:\n",
    "        row = cursor.fetchone()\n",
    "        if not row:\n",
    "            break\n",
    "        print(row.id,row.code,row.firstName,row.lastName)\n",
    "    # close cursor once queries completed\n",
    "    # cursor.close()\n",
    "\n",
    "except pyodbc.Error as ex: # ex is the exception object\n",
    "    print()\n",
    "    print('Exception: ', ex)\n",
    "    print('Stopping program...')\n",
    "    print()"
   ]
  },
  {
   "cell_type": "markdown",
   "metadata": {},
   "source": [
    "##### Executing UPDATE SQL Queries"
   ]
  },
  {
   "cell_type": "markdown",
   "metadata": {},
   "source": [
    "##### Executing UPDATE SQL Queries"
   ]
  },
  {
   "cell_type": "code",
   "execution_count": 33,
   "metadata": {},
   "outputs": [
    {
     "name": "stdout",
     "output_type": "stream",
     "text": [
      "[Result Before Update....]\n",
      "1 code1 firstName1 lastName1\n",
      "2 code2 firstName2 lastName2\n",
      "3 code3 firstName3 lastName3\n",
      "4 code4 firstName4 lastName4\n",
      "5 code5 firstName5 lastName5\n",
      "6 code6 firstName6 lastName6\n",
      "7 code7 firstName7 lastName7\n",
      "\n",
      "[Updating Record in Table...]\n",
      "Update Complete\n",
      "\n",
      "[Result After Update....]\n",
      "1 code1 firstName1 lastName1\n",
      "2 code2 firstName2 lastName2\n",
      "3 code3 firstName3 lastName3\n",
      "4 code4 firstName4 lastName4\n",
      "5 code5 firstName5 lastName 5 NEW\n",
      "6 code6 firstName6 lastName6\n",
      "7 code7 firstName7 lastName7\n"
     ]
    }
   ],
   "source": [
    "# running UPDATE Statement without parameters \n",
    "# execute SQL query with valid table name\n",
    "try:\n",
    "    # executing cursor query\n",
    "    # Select before Insert\n",
    "    cursor.execute(\"SELECT * FROM tblCustomers\") \n",
    "    \n",
    "    print(\"[Result Before Update....]\")\n",
    "    while True:\n",
    "        row = cursor.fetchone()\n",
    "        if not row:\n",
    "            break\n",
    "        print(row.id,row.code,row.firstName,row.lastName)\n",
    "    print()\n",
    "    # Update Query\n",
    "    print(\"[Updating Record in Table...]\")\n",
    "    cursor.execute(\"UPDATE [tblCustomers] SET lastName = 'lastName 5 NEW' WHERE id=5\")\n",
    "    # commit the changes to table\n",
    "    connection.commit()\n",
    "    print(\"Update Complete\")\n",
    "    print()\n",
    "    print(\"[Result After Update....]\")\n",
    "    cursor.execute(\"SELECT * FROM tblCustomers\")\n",
    "    while True:\n",
    "        row = cursor.fetchone()\n",
    "        if not row:\n",
    "            break\n",
    "        print(row.id,row.code,row.firstName,row.lastName)\n",
    "    # close cursor once queries completed\n",
    "    # cursor.close()\n",
    "\n",
    "except pyodbc.Error as ex: # ex is the exception object\n",
    "    print()\n",
    "    print('Exception: ', ex)\n",
    "    print('Stopping program...')\n",
    "    print()"
   ]
  },
  {
   "cell_type": "code",
   "execution_count": 34,
   "metadata": {},
   "outputs": [
    {
     "name": "stdout",
     "output_type": "stream",
     "text": [
      "[Result Before Update....]\n",
      "1 code1 firstName1 lastName1\n",
      "2 code2 firstName2 lastName2\n",
      "3 code3 firstName3 lastName3\n",
      "4 code4 firstName4 lastName4\n",
      "5 code5 firstName5 lastName 5 NEW\n",
      "6 code6 firstName6 lastName6\n",
      "7 code7 firstName7 lastName7\n",
      "\n",
      "[Updating Record in Table...]\n",
      "Update Complete\n",
      "\n",
      "[Result After Update....]\n",
      "1 code1 firstName1 lastName1\n",
      "2 code2 firstName2 lastName2\n",
      "3 code3 firstName3 lastName3\n",
      "4 code4 firstName4 lastName4\n",
      "5 code5 firstName5 lastName5\n",
      "6 code6 firstName6 lastName6\n",
      "7 code7 firstName7 lastName7\n"
     ]
    }
   ],
   "source": [
    "# running UPDATE Statement with parameters \n",
    "# execute SQL query with valid table name\n",
    "try:\n",
    "    # executing cursor query\n",
    "    # Select before Insert\n",
    "    cursor.execute(\"SELECT * FROM tblCustomers\") \n",
    "    \n",
    "    print(\"[Result Before Update....]\")\n",
    "    paramID = 5\n",
    "    paramLName = 'lastName5'\n",
    "    while True:\n",
    "        row = cursor.fetchone()\n",
    "        if not row:\n",
    "            break\n",
    "        print(row.id,row.code,row.firstName,row.lastName)\n",
    "    print()\n",
    "    # Update Query\n",
    "    print(\"[Updating Record in Table...]\")\n",
    "    # using mulitple ? placeholders, then variables need to be listed in that order \n",
    "    cursor.execute(\"UPDATE [tblCustomers] SET lastName =? WHERE id=?\", paramLName, paramID)\n",
    "    # commit the changes to table\n",
    "    connection.commit()\n",
    "    print(\"Update Complete\")\n",
    "    print()\n",
    "    print(\"[Result After Update....]\")\n",
    "    cursor.execute(\"SELECT * FROM tblCustomers\")\n",
    "    while True:\n",
    "        row = cursor.fetchone()\n",
    "        if not row:\n",
    "            break\n",
    "        print(row.id,row.code,row.firstName,row.lastName)\n",
    "    # close cursor once queries completed\n",
    "    # cursor.close()\n",
    "\n",
    "except pyodbc.Error as ex: # ex is the exception object\n",
    "    print()\n",
    "    print('Exception: ', ex)\n",
    "    print('Stopping program...')\n",
    "    print()"
   ]
  },
  {
   "cell_type": "markdown",
   "metadata": {},
   "source": [
    "##### Executing DELETE SQL Queries"
   ]
  },
  {
   "cell_type": "code",
   "execution_count": 35,
   "metadata": {},
   "outputs": [
    {
     "name": "stdout",
     "output_type": "stream",
     "text": [
      "[Result Before Update....]\n",
      "1 code1 firstName1 lastName1\n",
      "2 code2 firstName2 lastName2\n",
      "3 code3 firstName3 lastName3\n",
      "4 code4 firstName4 lastName4\n",
      "5 code5 firstName5 lastName5\n",
      "6 code6 firstName6 lastName6\n",
      "7 code7 firstName7 lastName7\n",
      "\n",
      "[Updating Record in Table...]\n",
      "Delete Complete\n",
      "\n",
      "[Result After Update....]\n",
      "1 code1 firstName1 lastName1\n",
      "2 code2 firstName2 lastName2\n",
      "3 code3 firstName3 lastName3\n",
      "4 code4 firstName4 lastName4\n",
      "5 code5 firstName5 lastName5\n",
      "6 code6 firstName6 lastName6\n"
     ]
    }
   ],
   "source": [
    "# running DELETE Statement without parameters \n",
    "# execute SQL query with valid table name\n",
    "try:\n",
    "    # executing cursor query\n",
    "    # Select before Insert\n",
    "    cursor.execute(\"SELECT * FROM tblCustomers\") \n",
    "    \n",
    "    print(\"[Result Before Update....]\")\n",
    "    while True:\n",
    "        row = cursor.fetchone()\n",
    "        if not row:\n",
    "            break\n",
    "        print(row.id,row.code,row.firstName,row.lastName)\n",
    "    print()\n",
    "    # Update Query\n",
    "    print(\"[DELETE Record in Table...]\")\n",
    "    cursor.execute(\"DELETE [tblCustomers] WHERE id= 7\")\n",
    "    # commit the changes to table\n",
    "    connection.commit()\n",
    "    print(\"Delete Complete\")\n",
    "    print()\n",
    "    print(\"[Result After Update....]\")\n",
    "    cursor.execute(\"SELECT * FROM tblCustomers\")\n",
    "    while True:\n",
    "        row = cursor.fetchone()\n",
    "        if not row:\n",
    "            break\n",
    "        print(row.id,row.code,row.firstName,row.lastName)\n",
    "    # close cursor once queries completed\n",
    "    # cursor.close()\n",
    "\n",
    "except pyodbc.Error as ex: # ex is the exception object\n",
    "    print()\n",
    "    print('Exception: ', ex)\n",
    "    print('Stopping program...')\n",
    "    print()"
   ]
  },
  {
   "cell_type": "code",
   "execution_count": 39,
   "metadata": {},
   "outputs": [
    {
     "name": "stdout",
     "output_type": "stream",
     "text": [
      "[Result Before Delete....]\n",
      "1 code1 firstName1 lastName1\n",
      "2 code2 firstName2 lastName2\n",
      "3 code3 firstName3 lastName3\n",
      "4 code4 firstName4 lastName4\n",
      "5 code5 firstName5 lastName5\n",
      "6 code6 firstName6 lastName6\n",
      "\n",
      "[DELETE Record in Table...]\n",
      "Delete Complete\n",
      "\n",
      "[Result After Update....]\n",
      "1 code1 firstName1 lastName1\n",
      "2 code2 firstName2 lastName2\n",
      "3 code3 firstName3 lastName3\n",
      "4 code4 firstName4 lastName4\n",
      "5 code5 firstName5 lastName5\n"
     ]
    }
   ],
   "source": [
    "# running UPDATE Statement with parameters \n",
    "# execute SQL query with valid table name\n",
    "try:\n",
    "    # executing cursor query\n",
    "    # Select before Insert\n",
    "    cursor.execute(\"SELECT * FROM tblCustomers\") \n",
    "    \n",
    "    print(\"[Result Before Delete....]\")\n",
    "    paramID = 6\n",
    "    while True:\n",
    "        row = cursor.fetchone()\n",
    "        if not row:\n",
    "            break\n",
    "        print(row.id,row.code,row.firstName,row.lastName)\n",
    "    print()\n",
    "    # Update Query\n",
    "    print(\"[DELETE Record in Table...]\")\n",
    "    # using mulitple ? placeholders, then variables need to be listed in that order \n",
    "    cursor.execute(\"DELETE [tblCustomers] WHERE id=?\", paramID)\n",
    "    # commit the changes to table\n",
    "    connection.commit()\n",
    "    print(\"Delete Complete\")\n",
    "    print()\n",
    "    print(\"[Result After Update....]\")\n",
    "    cursor.execute(\"SELECT * FROM tblCustomers\")\n",
    "    while True:\n",
    "        row = cursor.fetchone()\n",
    "        if not row:\n",
    "            break\n",
    "        print(row.id,row.code,row.firstName,row.lastName)\n",
    "    # close cursor once queries completed\n",
    "    # cursor.close()\n",
    "\n",
    "except pyodbc.Error as ex: # ex is the exception object\n",
    "    print()\n",
    "    print('Exception: ', ex)\n",
    "    print('Stopping program...')\n",
    "    print()"
   ]
  },
  {
   "cell_type": "code",
   "execution_count": 23,
   "metadata": {},
   "outputs": [],
   "source": [
    "cursor.close()\n",
    "connection.close()"
   ]
  }
 ],
 "metadata": {
  "kernelspec": {
   "display_name": "base",
   "language": "python",
   "name": "python3"
  },
  "language_info": {
   "codemirror_mode": {
    "name": "ipython",
    "version": 3
   },
   "file_extension": ".py",
   "mimetype": "text/x-python",
   "name": "python",
   "nbconvert_exporter": "python",
   "pygments_lexer": "ipython3",
   "version": "3.11.9"
  }
 },
 "nbformat": 4,
 "nbformat_minor": 2
}
