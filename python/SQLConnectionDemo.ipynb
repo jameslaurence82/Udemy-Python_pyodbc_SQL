{
 "cells": [
  {
   "cell_type": "markdown",
   "metadata": {},
   "source": [
    "#### Demonstration code to Connect to SQL Server"
   ]
  },
  {
   "cell_type": "code",
   "execution_count": 3,
   "metadata": {},
   "outputs": [],
   "source": [
    "import pyodbc\n",
    "# pyodbc website -> pypi.org/project/pyodbc"
   ]
  },
  {
   "cell_type": "code",
   "execution_count": 4,
   "metadata": {},
   "outputs": [],
   "source": [
    "# Trusted Connection to SQL Server Default Instance\n",
    "# connection = pyodbc.connect('DRIVER={ODBC Driver 17 for SQL Server};SERVER=MSI;DATABASE=sampleDB;Trusted_Connection=yes;')\n",
    "\n",
    "# Trusted Connection to SQL Server Named Instance\n",
    "# connection = pyodbc.connect('DRIVER={ODBC Driver 17 for SQL Server};SERVER=MSI\\<INSTANCE NAME>;DATABASE=sampleDB;Trusted_Connection=yes;')\n",
    "\n",
    "# Standard Connection to SQL Server Default Instance (Username/password)\n",
    "# connection = pyodbc.connect('DRIVER={ODBC Driver 17 for SQL Server};SERVER=MSI;DATABASE=sampleDB;UID=<USERNAME>;PWD=<PASSWORD>')\n",
    "\n",
    "# Standard Connection to SQL Server Default Instance (Username/password)\n",
    "# connection = pyodbc.connect('DRIVER={ODBC Driver 17 for SQL Server};SERVER=MSI;DATABASE=sampleDB/<INSTANCE NAME>;UID=<USERNAME>;PWD=<PASSWORD>')"
   ]
  },
  {
   "cell_type": "markdown",
   "metadata": {},
   "source": [
    "##### After Connection made to SQL Server, cursor() method is created to retrieve database records </br> The commit() and rollback() methods will commit or rollback work performed with cursor </br> Then cursor and connection are closed with close() method"
   ]
  },
  {
   "cell_type": "code",
   "execution_count": 5,
   "metadata": {},
   "outputs": [],
   "source": [
    "# Query to get server name - chatGPT\n",
    "# cursor = connection.cursor()\n",
    "# cursor.execute(\"SELECT @@SERVERNAME AS ServerName\")  \n",
    "# server_name = cursor.fetchone()\n",
    "# print(\"Server Name:\", server_name[0])\n"
   ]
  },
  {
   "cell_type": "code",
   "execution_count": 6,
   "metadata": {},
   "outputs": [],
   "source": [
    "# Query to get server name, instance name and isclustered - chatGPT\n",
    "\n",
    "# cursor.execute(\"\"\"\n",
    "# SELECT \n",
    "#     CAST(SERVERPROPERTY('MachineName') AS VARCHAR(255)) AS MachineName, \n",
    "#     CAST(SERVERPROPERTY('InstanceName') AS VARCHAR(255)) AS InstanceName, \n",
    "#     CAST(SERVERPROPERTY('IsClustered') AS VARCHAR(255)) AS IsClustered\n",
    "# \"\"\")\n",
    "# instance_details = cursor.fetchone()\n",
    "# if instance_details:\n",
    "#     print(\"Machine Name:\", instance_details.MachineName)\n",
    "#     print(\"Instance Name:\", instance_details.InstanceName)\n",
    "#     print(\"Is Clustered:\", instance_details.IsClustered)\n",
    "\n"
   ]
  },
  {
   "cell_type": "markdown",
   "metadata": {},
   "source": [
    "##### 1. Creating Trusted Connection to SQL Server Sample Database</br> 2. Initialize cursor </br> 3. Close cursor and connection"
   ]
  },
  {
   "cell_type": "code",
   "execution_count": 7,
   "metadata": {},
   "outputs": [
    {
     "name": "stdout",
     "output_type": "stream",
     "text": [
      "\n",
      "Successfully Connected to Database\n",
      "\n"
     ]
    }
   ],
   "source": [
    "# Trusted Connection to SQL Server Default Instance without Exception Handling\n",
    "connection = pyodbc.connect('DRIVER={ODBC Driver 17 for SQL Server};SERVER=MSI;DATABASE=sampleDB;Trusted_Connection=yes;')\n",
    "\n",
    "# initialize the cursor with connection name\n",
    "cursor = connection.cursor()\n",
    "print()\n",
    "print('Successfully Connected to Database')\n",
    "print()\n",
    "# Close the cursor\n",
    "cursor.close()\n",
    "# Close the connection\n",
    "connection.close()\n",
    "\n"
   ]
  },
  {
   "cell_type": "markdown",
   "metadata": {},
   "source": [
    "##### Connection to SQL Server with Exception Handling (Try Except)"
   ]
  },
  {
   "cell_type": "code",
   "execution_count": 8,
   "metadata": {},
   "outputs": [
    {
     "name": "stdout",
     "output_type": "stream",
     "text": [
      "\n",
      "Exception:  ('28000', '[28000] [Microsoft][ODBC Driver 17 for SQL Server][SQL Server]Login failed for user \\'MSI\\\\james\\'. (18456) (SQLDriverConnect); [28000] [Microsoft][ODBC Driver 17 for SQL Server][SQL Server]Cannot open database \"sampleDB2\" requested by the login. The login failed. (4060); [28000] [Microsoft][ODBC Driver 17 for SQL Server][SQL Server]Login failed for user \\'MSI\\\\james\\'. (18456); [28000] [Microsoft][ODBC Driver 17 for SQL Server][SQL Server]Cannot open database \"sampleDB2\" requested by the login. The login failed. (4060)')\n",
      "Closing program...\n",
      "\n"
     ]
    }
   ],
   "source": [
    "# Trusted Connection to SQL Server Default Instance with Exception Handling (invalid DB Name)\n",
    "try:\n",
    "    connection = pyodbc.connect('DRIVER={ODBC Driver 17 for SQL Server};SERVER=MSI;DATABASE=sampleDB2;Trusted_Connection=yes;')\n",
    "\n",
    "    # initialize the cursor with connection name\n",
    "    cursor = connection.cursor()\n",
    "    print()\n",
    "    print('Successfully Connected to Database')\n",
    "    print()\n",
    "    # Close the cursor\n",
    "    cursor.close()\n",
    "    # Close the connection\n",
    "    connection.close()\n",
    "\n",
    "except pyodbc.Error as ex: # ex is the exception object\n",
    "    print()\n",
    "    print('Exception: ', ex)\n",
    "    print('Stopping program...')\n",
    "    print()\n",
    "    \n",
    "    "
   ]
  },
  {
   "cell_type": "markdown",
   "metadata": {},
   "source": [
    "##### Connection to SQL Server with Exception Handling (Try Except) </br> 1. Connect to Sql Server SampleDB </br> 2. Run Simple T-SQL query </br> 3. Display Results </br> Close Cursor,Connection"
   ]
  },
  {
   "cell_type": "code",
   "execution_count": 10,
   "metadata": {},
   "outputs": [
    {
     "name": "stdout",
     "output_type": "stream",
     "text": [
      "\n",
      "Successfully Connected to Database\n",
      "\n",
      "Microsoft SQL Server 2022 (RTM-GDR) (KB5035432) - 16.0.1115.1 (X64) \n",
      "\tMar 15 2024 01:13:46 \n",
      "\tCopyright (C) 2022 Microsoft Corporation\n",
      "\tDeveloper Edition (64-bit) on Windows 10 Home 10.0 <X64> (Build 22631: ) (Hypervisor)\n",
      "\n"
     ]
    }
   ],
   "source": [
    "# Trusted Connection to SQL Server Default Instance with Exception Handling (invalid DB Name)\n",
    "try:\n",
    "    connection = pyodbc.connect('DRIVER={ODBC Driver 17 for SQL Server};SERVER=MSI;DATABASE=sampleDB;Trusted_Connection=yes;')\n",
    "\n",
    "    # initialize the cursor object with connection name\n",
    "    cursor = connection.cursor()\n",
    "    print()\n",
    "    print('Successfully Connected to Database')\n",
    "    print()\n",
    "\n",
    "except pyodbc.Error as ex: # ex is the exception object\n",
    "    print()\n",
    "    print('Exception: ', ex)\n",
    "    print('Stopping program...')\n",
    "    print()\n",
    "    \n",
    "# without error can run queries against database\n",
    "# cursor.execute is how queries using T-SQL script are run \n",
    "cursor.execute(\"SELECT @@VERSION as version\") # @@ is used for variable \n",
    "\n",
    "# in SQL Server this loop will continue to fetch rows from query result until no rows left\n",
    "while 1: # 1 indicates while True\n",
    "    row = cursor.fetchone() # returns single record or 'None' if no more rows\n",
    "    if not row: # if statement to detect if 'None' then break the loop\n",
    "        break\n",
    "    print(row.version) # prints version attribute for row object\n",
    "    \n",
    "cursor.close()\n",
    "connection.close()\n"
   ]
  },
  {
   "cell_type": "code",
   "execution_count": null,
   "metadata": {},
   "outputs": [],
   "source": []
  }
 ],
 "metadata": {
  "kernelspec": {
   "display_name": "base",
   "language": "python",
   "name": "python3"
  },
  "language_info": {
   "codemirror_mode": {
    "name": "ipython",
    "version": 3
   },
   "file_extension": ".py",
   "mimetype": "text/x-python",
   "name": "python",
   "nbconvert_exporter": "python",
   "pygments_lexer": "ipython3",
   "version": "3.11.9"
  }
 },
 "nbformat": 4,
 "nbformat_minor": 2
}
