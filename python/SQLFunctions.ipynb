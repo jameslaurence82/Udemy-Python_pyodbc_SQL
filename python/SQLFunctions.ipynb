{
 "cells": [
  {
   "cell_type": "markdown",
   "metadata": {},
   "source": [
    "##### SQL Functions"
   ]
  },
  {
   "cell_type": "code",
   "execution_count": 2,
   "metadata": {},
   "outputs": [],
   "source": [
    "import pyodbc\n",
    "import pandas as pd"
   ]
  },
  {
   "cell_type": "code",
   "execution_count": 3,
   "metadata": {},
   "outputs": [
    {
     "name": "stdout",
     "output_type": "stream",
     "text": [
      "\n",
      "Successfully Connected to Database\n",
      "\n"
     ]
    }
   ],
   "source": [
    "# Trusted Connection to SQL Server Default Instance with Exception Handling (invalid DB Name)\n",
    "try:\n",
    "    connection = pyodbc.connect('DRIVER={ODBC Driver 17 for SQL Server};SERVER=MSI;DATABASE=sampleDB;Trusted_Connection=yes;')\n",
    "\n",
    "    # initialize the cursor object with connection name\n",
    "    cursor = connection.cursor()\n",
    "    print()\n",
    "    print('Successfully Connected to Database')\n",
    "    print()\n",
    "\n",
    "except pyodbc.Error as ex: # ex is the exception object\n",
    "    print()\n",
    "    print('Exception: ', ex)\n",
    "    print('Stopping program...')\n",
    "    print()\n",
    "    "
   ]
  },
  {
   "cell_type": "markdown",
   "metadata": {},
   "source": [
    "##### Create SQL Server User-Defined Function"
   ]
  },
  {
   "cell_type": "code",
   "execution_count": 4,
   "metadata": {},
   "outputs": [
    {
     "name": "stdout",
     "output_type": "stream",
     "text": [
      "\n",
      "Exception:  ('42S01', \"[42S01] [Microsoft][ODBC Driver 17 for SQL Server][SQL Server]There is already an object named 'ufnGetCusCode' in the database. (2714) (SQLExecDirectW)\")\n",
      "Stopping program...\n",
      "\n"
     ]
    }
   ],
   "source": [
    "try:\n",
    "    # using \"\"\" \"\"\" This can create a multiple line SQL Query for easier Readability\n",
    "    sqlCommand = \"\"\" \n",
    "    CREATE FUNCTION ufnGetCusCode(@cusID int)\n",
    "    RETURNS VARCHAR(50)\n",
    "    AS\n",
    "    BEGIN\n",
    "    DECLARE @cusCode VARCHAR(50)\n",
    "    SET @cusCode = (SELECT code from tblCustomers WHERE id=@cusID)\n",
    "    \n",
    "    RETURN @cusCode\n",
    "    \n",
    "    END;\n",
    "    \"\"\"\n",
    "    \n",
    "    # execute query\n",
    "    cursor.execute(sqlCommand)\n",
    "    connection.commit()\n",
    "    print()\n",
    "    print('User-Defined Function Created')\n",
    "    print()\n",
    "\n",
    "except pyodbc.Error as ex: # ex is the exception object\n",
    "    print()\n",
    "    print('Exception: ', ex)\n",
    "    print('Stopping program...')\n",
    "    print()"
   ]
  },
  {
   "cell_type": "markdown",
   "metadata": {},
   "source": [
    "##### Call User-Defined Function ufnGetCusCode and get results"
   ]
  },
  {
   "cell_type": "code",
   "execution_count": 5,
   "metadata": {},
   "outputs": [
    {
     "name": "stdout",
     "output_type": "stream",
     "text": [
      "[User Defined Function Results...]\n",
      "Customer code for ID 2 is: code2\n",
      "\n"
     ]
    }
   ],
   "source": [
    "try:\n",
    "    # Call function\n",
    "    sqlCommand = \"SELECT dbo.ufnGetCusCode(?) as CusCode\"\n",
    "\n",
    "    # Initialize the parameter with a specific customer ID to pass to the function\n",
    "    paramCusId = 2\n",
    "\n",
    "    # Execute the user-defined function using the SQL command and parameter\n",
    "    cursor.execute(sqlCommand, paramCusId)\n",
    "    # Notify that stored procedure results are being printed\n",
    "    print('[User Defined Function Results...]')\n",
    "    while 1:\n",
    "        row = cursor.fetchone()\n",
    "        if not row:\n",
    "            break\n",
    "        print(f\"Customer code for ID {paramCusId} is: {row.CusCode}\")\n",
    "    print() \n",
    "\n",
    "except pyodbc.Error as ex: # ex is the exception object\n",
    "    print()\n",
    "    print('Exception: ', ex)\n",
    "    print('Stopping program...')\n",
    "    print()"
   ]
  },
  {
   "cell_type": "markdown",
   "metadata": {},
   "source": [
    "##### Call SQL Server System Function"
   ]
  },
  {
   "cell_type": "code",
   "execution_count": 10,
   "metadata": {},
   "outputs": [
    {
     "name": "stdout",
     "output_type": "stream",
     "text": [
      "[System Function 1 - HOST_NAME - Results....]\n",
      "HostName: MSI\n",
      "\n",
      "[System Function 2 - DB_NAME - Results....]\n",
      "Database Name: SampleDB\n",
      "\n",
      "[System Function 3 - DB_NAME - Results....]\n",
      "Is a20 a Numeric Value? (1 = True, 0 = False): 0\n",
      "\n"
     ]
    }
   ],
   "source": [
    "try:\n",
    "    # Execute the SQL Server System Function 1\n",
    "    cursor.execute(\"SELECT HOST_NAME () as HostName\")\n",
    "    # Notify that stored procedure results are being printed\n",
    "    print('[System Function 1 - HOST_NAME - Results....]')\n",
    "    while 1:\n",
    "        row = cursor.fetchone()\n",
    "        if not row:\n",
    "            break\n",
    "        print(f\"HostName: {row.HostName}\")\n",
    "    print() \n",
    "    \n",
    "    # Execute the SQL Server System Function 2\n",
    "    cursor.execute(\"SELECT DB_NAME() as CurrentDBName\")\n",
    "    # Notify that stored procedure results are being printed\n",
    "    print('[System Function 2 - DB_NAME - Results....]')\n",
    "    while 1:\n",
    "        row = cursor.fetchone()\n",
    "        if not row:\n",
    "            break\n",
    "        print(f\"Database Name: {row.CurrentDBName}\")\n",
    "    print()\n",
    "    \n",
    "    # Execute the SQL Server System Function 3 with parameter\n",
    "    paramIsNumeric = \"a20\"\n",
    "    cursor.execute(\"SELECT ISNUMERIC (?) as IsNumericValue\", paramIsNumeric)\n",
    "    # Notify that stored procedure results are being printed\n",
    "    print('[System Function 3 - DB_NAME - Results....]')\n",
    "    while 1:\n",
    "        row = cursor.fetchone()\n",
    "        if not row:\n",
    "            break\n",
    "        print(f\"Is {paramIsNumeric} a Numeric Value? (1 = True, 0 = False): {row.IsNumericValue}\")\n",
    "    print()\n",
    "    \n",
    "except pyodbc.Error as ex: # ex is the exception object\n",
    "    print()\n",
    "    print('Exception: ', ex)\n",
    "    print('Stopping program...')\n",
    "    print()"
   ]
  }
 ],
 "metadata": {
  "kernelspec": {
   "display_name": "base",
   "language": "python",
   "name": "python3"
  },
  "language_info": {
   "codemirror_mode": {
    "name": "ipython",
    "version": 3
   },
   "file_extension": ".py",
   "mimetype": "text/x-python",
   "name": "python",
   "nbconvert_exporter": "python",
   "pygments_lexer": "ipython3",
   "version": "3.11.9"
  }
 },
 "nbformat": 4,
 "nbformat_minor": 2
}
