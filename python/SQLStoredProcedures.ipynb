{
 "cells": [
  {
   "cell_type": "markdown",
   "metadata": {},
   "source": [
    "##### Store Procedures"
   ]
  },
  {
   "cell_type": "code",
   "execution_count": 1,
   "metadata": {},
   "outputs": [],
   "source": [
    "import pyodbc\n",
    "import pandas as pd"
   ]
  },
  {
   "cell_type": "code",
   "execution_count": 2,
   "metadata": {},
   "outputs": [
    {
     "name": "stdout",
     "output_type": "stream",
     "text": [
      "\n",
      "Successfully Connected to Database\n",
      "\n"
     ]
    }
   ],
   "source": [
    "# Trusted Connection to SQL Server Default Instance with Exception Handling (invalid DB Name)\n",
    "try:\n",
    "    connection = pyodbc.connect('DRIVER={ODBC Driver 17 for SQL Server};SERVER=MSI;DATABASE=sampleDB;Trusted_Connection=yes;')\n",
    "\n",
    "    # initialize the cursor object with connection name\n",
    "    cursor = connection.cursor()\n",
    "    print()\n",
    "    print('Successfully Connected to Database')\n",
    "    print()\n",
    "\n",
    "except pyodbc.Error as ex: # ex is the exception object\n",
    "    print()\n",
    "    print('Exception: ', ex)\n",
    "    print('Stopping program...')\n",
    "    print()\n",
    "    "
   ]
  },
  {
   "cell_type": "markdown",
   "metadata": {},
   "source": [
    "##### Create SQL Server Stored Procedure"
   ]
  },
  {
   "cell_type": "code",
   "execution_count": 4,
   "metadata": {},
   "outputs": [
    {
     "name": "stdout",
     "output_type": "stream",
     "text": [
      "\n",
      "Stored Procedure Successfully Created\n",
      "\n"
     ]
    }
   ],
   "source": [
    "try:\n",
    "    # If stored procedure already exists, use ALTER PROCEDURE\n",
    "    # using \"\"\" \"\"\" This can create a multiple line SQL Query for easier Readability\n",
    "    sqlCommand = \"\"\" \n",
    "    CREATE PROCEDURE uspCustDetails (@cusID int, @out nvarchar(max) OUTPUT)\n",
    "    AS\n",
    "    SELECT * FROM tblCustomers WHERE id=@cusID\n",
    "    \"\"\"\n",
    "    \n",
    "    # execute query\n",
    "    cursor.execute(sqlCommand)\n",
    "    connection.commit()\n",
    "    print()\n",
    "    print('Stored Procedure Successfully Created')\n",
    "    print()\n",
    "\n",
    "except pyodbc.Error as ex: # ex is the exception object\n",
    "    print()\n",
    "    print('Exception: ', ex)\n",
    "    print('Stopping program...')\n",
    "    print()"
   ]
  },
  {
   "cell_type": "markdown",
   "metadata": {},
   "source": [
    "##### Call SQL Server Stored Procedure that returns result"
   ]
  },
  {
   "cell_type": "code",
   "execution_count": 5,
   "metadata": {},
   "outputs": [
    {
     "name": "stdout",
     "output_type": "stream",
     "text": [
      "[Stored Procedure Call Results...]\n",
      "[(2, 'code2', 'firstName2', 'lastName2')]\n",
      "\n"
     ]
    }
   ],
   "source": [
    "try:\n",
    "    # If stored procedure already exists, use ALTER PROCEDURE\n",
    "    # using \"\"\" \"\"\" This can create a multiple line SQL Query for easier Readability\n",
    "    # Define  sqlCommand string to call a stored procedure with parameters\n",
    "    sqlCommand = \"\"\" \n",
    "    DECLARE @out nvarchar(max)\n",
    "    EXEC dbo.uspCustDetails @cusID=?, @out = @out OUTPUT\n",
    "    \"\"\"\n",
    "\n",
    "    # Initialize the parameter with a specific customer ID to pass to the stored procedure\n",
    "    paramCusId = 2\n",
    "\n",
    "    # Execute the stored procedure using the SQL command and parameter\n",
    "    cursor.execute(sqlCommand, paramCusId)\n",
    "    # Notify that stored procedure results are being printed\n",
    "    print('[Stored Procedure Call Results...]')\n",
    "\n",
    "    # Fetch all rows returned by the stored procedure\n",
    "    rows = cursor.fetchall()\n",
    "    # Display the fetched results and continue fetching if more result sets are available\n",
    "    while rows:\n",
    "        print(rows)  # Print current batch of rows\n",
    "        if cursor.nextset():  # Check if there is another set of results\n",
    "            rows = cursor.fetchall()  # Fetch next set of results\n",
    "        else:\n",
    "            rows = None  # No more results, exit loop\n",
    "\n",
    "    print()\n",
    "\n",
    "except pyodbc.Error as ex: # ex is the exception object\n",
    "    print()\n",
    "    print('Exception: ', ex)\n",
    "    print('Stopping program...')\n",
    "    print()"
   ]
  },
  {
   "cell_type": "markdown",
   "metadata": {},
   "source": [
    "##### Call SQL Server Stored Procedure that returns no result"
   ]
  },
  {
   "cell_type": "code",
   "execution_count": 10,
   "metadata": {},
   "outputs": [
    {
     "name": "stdout",
     "output_type": "stream",
     "text": [
      "\n",
      "\n",
      "Results after Customer Detail Update Store Procedure Called\n",
      "1 code1 firstName1 lastName1\n",
      "2 code2 firstName2 lastName2 Update from SP\n",
      "3 code3 firstName3 lastName3\n",
      "4 code4 firstName4 lastName4\n",
      "5 code5 firstName5 lastName5\n",
      "\n"
     ]
    }
   ],
   "source": [
    "try:\n",
    "    # Create no result Stored Procedure\n",
    "    sqlCommand = \"\"\" \n",
    "    CREATE PROCEDURE uspCustDetailsUpdate (@cusID int)\n",
    "    AS\n",
    "    UPDATE tblCustomers SET lastName= lastName + ' Update from SP'\n",
    "    WHERE id=@cusID\n",
    "    \"\"\"\n",
    "    # Execute the stored procedure creation using the SQL command\n",
    "    cursor.execute(sqlCommand)\n",
    "    # Commits transaction\n",
    "    connection.commit()\n",
    "    print()\n",
    "    \n",
    "    # Call stored procedure\n",
    "    sqlCommand1 = \"\"\" \n",
    "    EXEC dbo.uspCustDetailsUpdate @cusID=?\n",
    "    \"\"\"\n",
    "    paramCusId = 2\n",
    "    # Execute the stored procedure using the SQL command and parameter\n",
    "    cursor.execute(sqlCommand1, paramCusId)\n",
    "    # Commits transaction\n",
    "    connection.commit()\n",
    "    print()\n",
    "    # Select Query after UPDATE SP Called\n",
    "    cursor.execute(\"SELECT * FROM tblCustomers\")\n",
    "    print(\"[Results after Customer Detail Update Store Procedure Called...]\")\n",
    "    while 1:\n",
    "        row = cursor.fetchone()\n",
    "        if not row:\n",
    "            break\n",
    "        print(row.id,row.code,row.firstName,row.lastName)\n",
    "    print()   \n",
    "\n",
    "except pyodbc.Error as ex: # ex is the exception object\n",
    "    print()\n",
    "    print('Exception: ', ex)\n",
    "    print('Stopping program...')\n",
    "    print()"
   ]
  }
 ],
 "metadata": {
  "kernelspec": {
   "display_name": "base",
   "language": "python",
   "name": "python3"
  },
  "language_info": {
   "codemirror_mode": {
    "name": "ipython",
    "version": 3
   },
   "file_extension": ".py",
   "mimetype": "text/x-python",
   "name": "python",
   "nbconvert_exporter": "python",
   "pygments_lexer": "ipython3",
   "version": "3.11.9"
  }
 },
 "nbformat": 4,
 "nbformat_minor": 2
}
